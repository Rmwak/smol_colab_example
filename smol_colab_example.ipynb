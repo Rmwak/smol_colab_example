{
  "nbformat": 4,
  "nbformat_minor": 0,
  "metadata": {
    "colab": {
      "name": "smol_colab_example.ipynb",
      "provenance": [],
      "collapsed_sections": []
    },
    "kernelspec": {
      "name": "python3",
      "display_name": "Python 3"
    }
  },
  "cells": [
    {
      "cell_type": "markdown",
      "metadata": {
        "id": "E_dFu7SV6qiC",
        "colab_type": "text"
      },
      "source": [
        "# This is a title \n",
        "\n",
        "And this is a description!\n"
      ]
    },
    {
      "cell_type": "markdown",
      "metadata": {
        "id": "c2Fm_YBO6yfT",
        "colab_type": "text"
      },
      "source": [
        "### Now this is a section\n",
        "\n",
        "And in this section we are gonna install some libraries because is kinda the first thing to do since notebooks are efimeral"
      ]
    },
    {
      "cell_type": "code",
      "metadata": {
        "id": "HbaZ4UTp6SAC",
        "colab_type": "code",
        "outputId": "a548d99c-4cea-48c1-bb79-48209995500c",
        "colab": {
          "base_uri": "https://localhost:8080/",
          "height": 336
        }
      },
      "source": [
        "!pip install matplotlib pandas scipy boto3 pandas-profiling"
      ],
      "execution_count": 15,
      "outputs": [
        {
          "output_type": "stream",
          "text": [
            "Requirement already satisfied: matplotlib in /usr/local/lib/python3.6/dist-packages (3.2.1)\n",
            "Requirement already satisfied: pandas in /usr/local/lib/python3.6/dist-packages (1.0.3)\n",
            "Requirement already satisfied: scipy in /usr/local/lib/python3.6/dist-packages (1.4.1)\n",
            "Requirement already satisfied: boto3 in /usr/local/lib/python3.6/dist-packages (1.13.3)\n",
            "Requirement already satisfied: pandas-profiling in /usr/local/lib/python3.6/dist-packages (1.4.1)\n",
            "Requirement already satisfied: kiwisolver>=1.0.1 in /usr/local/lib/python3.6/dist-packages (from matplotlib) (1.2.0)\n",
            "Requirement already satisfied: numpy>=1.11 in /usr/local/lib/python3.6/dist-packages (from matplotlib) (1.18.4)\n",
            "Requirement already satisfied: cycler>=0.10 in /usr/local/lib/python3.6/dist-packages (from matplotlib) (0.10.0)\n",
            "Requirement already satisfied: pyparsing!=2.0.4,!=2.1.2,!=2.1.6,>=2.0.1 in /usr/local/lib/python3.6/dist-packages (from matplotlib) (2.4.7)\n",
            "Requirement already satisfied: python-dateutil>=2.1 in /usr/local/lib/python3.6/dist-packages (from matplotlib) (2.8.1)\n",
            "Requirement already satisfied: pytz>=2017.2 in /usr/local/lib/python3.6/dist-packages (from pandas) (2018.9)\n",
            "Requirement already satisfied: botocore<1.17.0,>=1.16.3 in /usr/local/lib/python3.6/dist-packages (from boto3) (1.16.3)\n",
            "Requirement already satisfied: s3transfer<0.4.0,>=0.3.0 in /usr/local/lib/python3.6/dist-packages (from boto3) (0.3.3)\n",
            "Requirement already satisfied: jmespath<1.0.0,>=0.7.1 in /usr/local/lib/python3.6/dist-packages (from boto3) (0.9.5)\n",
            "Requirement already satisfied: six>=1.9 in /usr/local/lib/python3.6/dist-packages (from pandas-profiling) (1.12.0)\n",
            "Requirement already satisfied: jinja2>=2.8 in /usr/local/lib/python3.6/dist-packages (from pandas-profiling) (2.11.2)\n",
            "Requirement already satisfied: docutils<0.16,>=0.10 in /usr/local/lib/python3.6/dist-packages (from botocore<1.17.0,>=1.16.3->boto3) (0.15.2)\n",
            "Requirement already satisfied: urllib3<1.26,>=1.20; python_version != \"3.4\" in /usr/local/lib/python3.6/dist-packages (from botocore<1.17.0,>=1.16.3->boto3) (1.24.3)\n",
            "Requirement already satisfied: MarkupSafe>=0.23 in /usr/local/lib/python3.6/dist-packages (from jinja2>=2.8->pandas-profiling) (1.1.1)\n"
          ],
          "name": "stdout"
        }
      ]
    },
    {
      "cell_type": "markdown",
      "metadata": {
        "id": "51CMpy6IC91B",
        "colab_type": "text"
      },
      "source": [
        "### We can also install directly from a requirements.txt we got in some repo or whatever"
      ]
    },
    {
      "cell_type": "code",
      "metadata": {
        "id": "6_YTkX8yCYzT",
        "colab_type": "code",
        "colab": {
          "base_uri": "https://localhost:8080/",
          "height": 978
        },
        "outputId": "82d02ed6-3bb6-44d9-d639-2a49ba78f67c"
      },
      "source": [
        "!pip install -r https://raw.githubusercontent.com/Rmwak/smol_colab_example/master/requirements.txt"
      ],
      "execution_count": 17,
      "outputs": [
        {
          "output_type": "stream",
          "text": [
            "\u001b[33mWARNING: Cache entry deserialization failed, entry ignored\u001b[0m\n",
            "Collecting boto3==1.12.28\n",
            "\u001b[?25l  Downloading https://files.pythonhosted.org/packages/d5/67/9829b54e96d33a1614c2f491c94ef5a78486e162f8c7cfe5c86bc6d9c1c1/boto3-1.12.28-py2.py3-none-any.whl (128kB)\n",
            "\u001b[K     |████████████████████████████████| 133kB 2.8MB/s \n",
            "\u001b[?25hCollecting matplotlib==3.1.1\n",
            "\u001b[?25l  Downloading https://files.pythonhosted.org/packages/57/4f/dd381ecf6c6ab9bcdaa8ea912e866dedc6e696756156d8ecc087e20817e2/matplotlib-3.1.1-cp36-cp36m-manylinux1_x86_64.whl (13.1MB)\n",
            "\u001b[K     |████████████████████████████████| 13.1MB 226kB/s \n",
            "\u001b[?25hCollecting pandas==1.0.1\n",
            "\u001b[?25l  Downloading https://files.pythonhosted.org/packages/08/ec/b5dd8cfb078380fb5ae9325771146bccd4e8cad2d3e4c72c7433010684eb/pandas-1.0.1-cp36-cp36m-manylinux1_x86_64.whl (10.1MB)\n",
            "\u001b[K     |████████████████████████████████| 10.1MB 40.2MB/s \n",
            "\u001b[?25hCollecting pandas-profiling==1.4.2\n",
            "  Downloading https://files.pythonhosted.org/packages/3b/98/e4cae9f4485be5ff589227af4e97dd7ebe60c1372bf6f8d9ccbeb0f90667/pandas-profiling-1.4.2.tar.gz\n",
            "Collecting botocore<1.16.0,>=1.15.28\n",
            "\u001b[?25l  Downloading https://files.pythonhosted.org/packages/0f/2c/80605ef2f2800815dd2b0be0000295481b8e965b94541a3ed245c683c6f2/botocore-1.15.49-py2.py3-none-any.whl (6.2MB)\n",
            "\u001b[K     |████████████████████████████████| 6.2MB 39.8MB/s \n",
            "\u001b[?25hRequirement already satisfied: s3transfer<0.4.0,>=0.3.0 in /usr/local/lib/python3.6/dist-packages (from boto3==1.12.28->-r https://raw.githubusercontent.com/Rmwak/smol_colab_example/master/requirements.txt (line 1)) (0.3.3)\n",
            "Requirement already satisfied: jmespath<1.0.0,>=0.7.1 in /usr/local/lib/python3.6/dist-packages (from boto3==1.12.28->-r https://raw.githubusercontent.com/Rmwak/smol_colab_example/master/requirements.txt (line 1)) (0.9.5)\n",
            "Requirement already satisfied: cycler>=0.10 in /usr/local/lib/python3.6/dist-packages (from matplotlib==3.1.1->-r https://raw.githubusercontent.com/Rmwak/smol_colab_example/master/requirements.txt (line 2)) (0.10.0)\n",
            "Requirement already satisfied: kiwisolver>=1.0.1 in /usr/local/lib/python3.6/dist-packages (from matplotlib==3.1.1->-r https://raw.githubusercontent.com/Rmwak/smol_colab_example/master/requirements.txt (line 2)) (1.2.0)\n",
            "Requirement already satisfied: python-dateutil>=2.1 in /usr/local/lib/python3.6/dist-packages (from matplotlib==3.1.1->-r https://raw.githubusercontent.com/Rmwak/smol_colab_example/master/requirements.txt (line 2)) (2.8.1)\n",
            "Requirement already satisfied: pyparsing!=2.0.4,!=2.1.2,!=2.1.6,>=2.0.1 in /usr/local/lib/python3.6/dist-packages (from matplotlib==3.1.1->-r https://raw.githubusercontent.com/Rmwak/smol_colab_example/master/requirements.txt (line 2)) (2.4.7)\n",
            "Requirement already satisfied: numpy>=1.11 in /usr/local/lib/python3.6/dist-packages (from matplotlib==3.1.1->-r https://raw.githubusercontent.com/Rmwak/smol_colab_example/master/requirements.txt (line 2)) (1.18.4)\n",
            "Requirement already satisfied: pytz>=2017.2 in /usr/local/lib/python3.6/dist-packages (from pandas==1.0.1->-r https://raw.githubusercontent.com/Rmwak/smol_colab_example/master/requirements.txt (line 3)) (2018.9)\n",
            "Requirement already satisfied: jinja2>=2.8 in /usr/local/lib/python3.6/dist-packages (from pandas-profiling==1.4.2->-r https://raw.githubusercontent.com/Rmwak/smol_colab_example/master/requirements.txt (line 4)) (2.11.2)\n",
            "Requirement already satisfied: six>=1.9 in /usr/local/lib/python3.6/dist-packages (from pandas-profiling==1.4.2->-r https://raw.githubusercontent.com/Rmwak/smol_colab_example/master/requirements.txt (line 4)) (1.12.0)\n",
            "Requirement already satisfied: docutils<0.16,>=0.10 in /usr/local/lib/python3.6/dist-packages (from botocore<1.16.0,>=1.15.28->boto3==1.12.28->-r https://raw.githubusercontent.com/Rmwak/smol_colab_example/master/requirements.txt (line 1)) (0.15.2)\n",
            "Requirement already satisfied: urllib3<1.26,>=1.20; python_version != \"3.4\" in /usr/local/lib/python3.6/dist-packages (from botocore<1.16.0,>=1.15.28->boto3==1.12.28->-r https://raw.githubusercontent.com/Rmwak/smol_colab_example/master/requirements.txt (line 1)) (1.24.3)\n",
            "Requirement already satisfied: MarkupSafe>=0.23 in /usr/local/lib/python3.6/dist-packages (from jinja2>=2.8->pandas-profiling==1.4.2->-r https://raw.githubusercontent.com/Rmwak/smol_colab_example/master/requirements.txt (line 4)) (1.1.1)\n",
            "Building wheels for collected packages: pandas-profiling\n",
            "  Building wheel for pandas-profiling (setup.py) ... \u001b[?25l\u001b[?25hdone\n",
            "  Created wheel for pandas-profiling: filename=pandas_profiling-1.4.2-py2.py3-none-any.whl size=33873 sha256=d781cdd6e9a80e8070f80c8497271d3d5b3bbbac83dbbc9886de5cd40c3e7b30\n",
            "  Stored in directory: /root/.cache/pip/wheels/bf/c5/d0/7278ea92cf6195c9bef7d9b1b63767fc16dc490a2402287067\n",
            "Successfully built pandas-profiling\n",
            "\u001b[31mERROR: albumentations 0.1.12 has requirement imgaug<0.2.7,>=0.2.5, but you'll have imgaug 0.2.9 which is incompatible.\u001b[0m\n",
            "Installing collected packages: botocore, boto3, matplotlib, pandas, pandas-profiling\n",
            "  Found existing installation: botocore 1.16.3\n",
            "    Uninstalling botocore-1.16.3:\n",
            "      Successfully uninstalled botocore-1.16.3\n",
            "  Found existing installation: boto3 1.13.3\n",
            "    Uninstalling boto3-1.13.3:\n",
            "      Successfully uninstalled boto3-1.13.3\n",
            "  Found existing installation: matplotlib 3.2.1\n",
            "    Uninstalling matplotlib-3.2.1:\n",
            "      Successfully uninstalled matplotlib-3.2.1\n",
            "  Found existing installation: pandas 1.0.3\n",
            "    Uninstalling pandas-1.0.3:\n",
            "      Successfully uninstalled pandas-1.0.3\n",
            "  Found existing installation: pandas-profiling 1.4.1\n",
            "    Uninstalling pandas-profiling-1.4.1:\n",
            "      Successfully uninstalled pandas-profiling-1.4.1\n",
            "Successfully installed boto3-1.12.28 botocore-1.15.49 matplotlib-3.1.1 pandas-1.0.1 pandas-profiling-1.4.2\n"
          ],
          "name": "stdout"
        },
        {
          "output_type": "display_data",
          "data": {
            "application/vnd.colab-display-data+json": {
              "pip_warning": {
                "packages": [
                  "matplotlib",
                  "mpl_toolkits",
                  "pandas"
                ]
              }
            }
          },
          "metadata": {
            "tags": []
          }
        }
      ]
    },
    {
      "cell_type": "markdown",
      "metadata": {
        "id": "tOEhOTCV7jJM",
        "colab_type": "text"
      },
      "source": [
        "### Now we mount drive!\n",
        "\n",
        "Cos we have the data in gdrive. I mean we may upload it directly also, or get it from a public S3 (or private using boto3) or whatever. \n",
        "\n",
        "With drive you gotta give him access with a bunch of weird keys but ¯\\_(ツ)_/¯"
      ]
    },
    {
      "cell_type": "code",
      "metadata": {
        "id": "JRm6YcJJ6_VN",
        "colab_type": "code",
        "outputId": "3149ec93-8c90-4221-9ca3-c2a18e48bef5",
        "colab": {
          "base_uri": "https://localhost:8080/",
          "height": 121
        }
      },
      "source": [
        "from google.colab import drive\n",
        "drive.mount('/content/drive')"
      ],
      "execution_count": 0,
      "outputs": [
        {
          "output_type": "stream",
          "text": [
            "Go to this URL in a browser: https://accounts.google.com/o/oauth2/auth?client_id=947318989803-6bn6qk8qdgf4n4g3pfee6491hc0brc4i.apps.googleusercontent.com&redirect_uri=urn%3aietf%3awg%3aoauth%3a2.0%3aoob&response_type=code&scope=email%20https%3a%2f%2fwww.googleapis.com%2fauth%2fdocs.test%20https%3a%2f%2fwww.googleapis.com%2fauth%2fdrive%20https%3a%2f%2fwww.googleapis.com%2fauth%2fdrive.photos.readonly%20https%3a%2f%2fwww.googleapis.com%2fauth%2fpeopleapi.readonly\n",
            "\n",
            "Enter your authorization code:\n",
            "··········\n",
            "Mounted at /content/drive\n"
          ],
          "name": "stdout"
        }
      ]
    },
    {
      "cell_type": "markdown",
      "metadata": {
        "id": "F91vO4c78DoK",
        "colab_type": "text"
      },
      "source": [
        "houston we got drive!"
      ]
    },
    {
      "cell_type": "code",
      "metadata": {
        "id": "UdUcaSC97hM7",
        "colab_type": "code",
        "outputId": "36c97052-895f-49c5-a1e5-5304e5a6bc5d",
        "colab": {
          "base_uri": "https://localhost:8080/",
          "height": 34
        }
      },
      "source": [
        "!ls \"drive/My Drive/smol_colab_example\""
      ],
      "execution_count": 10,
      "outputs": [
        {
          "output_type": "stream",
          "text": [
            "naked_photos  smol_colab_example.ipynb\n"
          ],
          "name": "stdout"
        }
      ]
    },
    {
      "cell_type": "markdown",
      "metadata": {
        "id": "M-Cfx0DG8TyP",
        "colab_type": "text"
      },
      "source": [
        "ohhh jezz I wonder what are those pictures I got there"
      ]
    },
    {
      "cell_type": "code",
      "metadata": {
        "id": "-eT2D8HL8bUN",
        "colab_type": "code",
        "outputId": "e76cab06-f3aa-4fcf-c1cd-7daf35d7f28d",
        "colab": {
          "base_uri": "https://localhost:8080/",
          "height": 34
        }
      },
      "source": [
        "!ls \"drive/My Drive/smol_colab_example/naked_photos\""
      ],
      "execution_count": 11,
      "outputs": [
        {
          "output_type": "stream",
          "text": [
            "naked_1.jpg  naked_2.jpg  naked_3.jpg\n"
          ],
          "name": "stdout"
        }
      ]
    },
    {
      "cell_type": "code",
      "metadata": {
        "id": "UUc7ngUD8H_t",
        "colab_type": "code",
        "colab": {}
      },
      "source": [
        "from PIL import Image\n",
        "im = Image.open('drive/My Drive/smol_colab_example/naked_photos/naked_1.jpg')\n",
        "display(im)"
      ],
      "execution_count": 0,
      "outputs": []
    },
    {
      "cell_type": "markdown",
      "metadata": {
        "id": "xPan4GjlDGvC",
        "colab_type": "text"
      },
      "source": [
        "# Now a bunch of weird crap with pandas and matplotlib, dunno"
      ]
    },
    {
      "cell_type": "code",
      "metadata": {
        "id": "G9KSLu8g8gEd",
        "colab_type": "code",
        "colab": {}
      },
      "source": [
        "import numpy as np\n",
        "import pandas as pd"
      ],
      "execution_count": 0,
      "outputs": []
    },
    {
      "cell_type": "code",
      "metadata": {
        "id": "xb4bh-WMDQXt",
        "colab_type": "code",
        "colab": {}
      },
      "source": [
        "df = pd.DataFrame(np.random.randint(0,100,size=(100, 4)), columns=list('ABCD'))"
      ],
      "execution_count": 0,
      "outputs": []
    },
    {
      "cell_type": "code",
      "metadata": {
        "id": "O7ZtYRFYDQ6x",
        "colab_type": "code",
        "colab": {
          "base_uri": "https://localhost:8080/",
          "height": 402
        },
        "outputId": "538fa2df-2a27-4560-f59f-ee6e8f3c42d9"
      },
      "source": [
        "df"
      ],
      "execution_count": 3,
      "outputs": [
        {
          "output_type": "execute_result",
          "data": {
            "text/html": [
              "<div>\n",
              "<style scoped>\n",
              "    .dataframe tbody tr th:only-of-type {\n",
              "        vertical-align: middle;\n",
              "    }\n",
              "\n",
              "    .dataframe tbody tr th {\n",
              "        vertical-align: top;\n",
              "    }\n",
              "\n",
              "    .dataframe thead th {\n",
              "        text-align: right;\n",
              "    }\n",
              "</style>\n",
              "<table border=\"1\" class=\"dataframe\">\n",
              "  <thead>\n",
              "    <tr style=\"text-align: right;\">\n",
              "      <th></th>\n",
              "      <th>A</th>\n",
              "      <th>B</th>\n",
              "      <th>C</th>\n",
              "      <th>D</th>\n",
              "    </tr>\n",
              "  </thead>\n",
              "  <tbody>\n",
              "    <tr>\n",
              "      <th>0</th>\n",
              "      <td>35</td>\n",
              "      <td>77</td>\n",
              "      <td>55</td>\n",
              "      <td>14</td>\n",
              "    </tr>\n",
              "    <tr>\n",
              "      <th>1</th>\n",
              "      <td>14</td>\n",
              "      <td>10</td>\n",
              "      <td>90</td>\n",
              "      <td>69</td>\n",
              "    </tr>\n",
              "    <tr>\n",
              "      <th>2</th>\n",
              "      <td>61</td>\n",
              "      <td>36</td>\n",
              "      <td>6</td>\n",
              "      <td>19</td>\n",
              "    </tr>\n",
              "    <tr>\n",
              "      <th>3</th>\n",
              "      <td>98</td>\n",
              "      <td>60</td>\n",
              "      <td>35</td>\n",
              "      <td>25</td>\n",
              "    </tr>\n",
              "    <tr>\n",
              "      <th>4</th>\n",
              "      <td>75</td>\n",
              "      <td>50</td>\n",
              "      <td>97</td>\n",
              "      <td>39</td>\n",
              "    </tr>\n",
              "    <tr>\n",
              "      <th>...</th>\n",
              "      <td>...</td>\n",
              "      <td>...</td>\n",
              "      <td>...</td>\n",
              "      <td>...</td>\n",
              "    </tr>\n",
              "    <tr>\n",
              "      <th>95</th>\n",
              "      <td>35</td>\n",
              "      <td>47</td>\n",
              "      <td>87</td>\n",
              "      <td>0</td>\n",
              "    </tr>\n",
              "    <tr>\n",
              "      <th>96</th>\n",
              "      <td>72</td>\n",
              "      <td>49</td>\n",
              "      <td>35</td>\n",
              "      <td>41</td>\n",
              "    </tr>\n",
              "    <tr>\n",
              "      <th>97</th>\n",
              "      <td>98</td>\n",
              "      <td>94</td>\n",
              "      <td>46</td>\n",
              "      <td>74</td>\n",
              "    </tr>\n",
              "    <tr>\n",
              "      <th>98</th>\n",
              "      <td>18</td>\n",
              "      <td>8</td>\n",
              "      <td>26</td>\n",
              "      <td>41</td>\n",
              "    </tr>\n",
              "    <tr>\n",
              "      <th>99</th>\n",
              "      <td>31</td>\n",
              "      <td>82</td>\n",
              "      <td>32</td>\n",
              "      <td>80</td>\n",
              "    </tr>\n",
              "  </tbody>\n",
              "</table>\n",
              "<p>100 rows × 4 columns</p>\n",
              "</div>"
            ],
            "text/plain": [
              "     A   B   C   D\n",
              "0   35  77  55  14\n",
              "1   14  10  90  69\n",
              "2   61  36   6  19\n",
              "3   98  60  35  25\n",
              "4   75  50  97  39\n",
              "..  ..  ..  ..  ..\n",
              "95  35  47  87   0\n",
              "96  72  49  35  41\n",
              "97  98  94  46  74\n",
              "98  18   8  26  41\n",
              "99  31  82  32  80\n",
              "\n",
              "[100 rows x 4 columns]"
            ]
          },
          "metadata": {
            "tags": []
          },
          "execution_count": 3
        }
      ]
    },
    {
      "cell_type": "markdown",
      "metadata": {
        "id": "gwPLGe70DTqM",
        "colab_type": "text"
      },
      "source": [
        "sort by one column..."
      ]
    },
    {
      "cell_type": "code",
      "metadata": {
        "id": "7Q0hbm5iDRQ3",
        "colab_type": "code",
        "colab": {
          "base_uri": "https://localhost:8080/",
          "height": 402
        },
        "outputId": "0ecdf42b-8e09-4b60-c80d-0140080618db"
      },
      "source": [
        "df.sort_values([\"A\"])"
      ],
      "execution_count": 4,
      "outputs": [
        {
          "output_type": "execute_result",
          "data": {
            "text/html": [
              "<div>\n",
              "<style scoped>\n",
              "    .dataframe tbody tr th:only-of-type {\n",
              "        vertical-align: middle;\n",
              "    }\n",
              "\n",
              "    .dataframe tbody tr th {\n",
              "        vertical-align: top;\n",
              "    }\n",
              "\n",
              "    .dataframe thead th {\n",
              "        text-align: right;\n",
              "    }\n",
              "</style>\n",
              "<table border=\"1\" class=\"dataframe\">\n",
              "  <thead>\n",
              "    <tr style=\"text-align: right;\">\n",
              "      <th></th>\n",
              "      <th>A</th>\n",
              "      <th>B</th>\n",
              "      <th>C</th>\n",
              "      <th>D</th>\n",
              "    </tr>\n",
              "  </thead>\n",
              "  <tbody>\n",
              "    <tr>\n",
              "      <th>17</th>\n",
              "      <td>3</td>\n",
              "      <td>96</td>\n",
              "      <td>48</td>\n",
              "      <td>18</td>\n",
              "    </tr>\n",
              "    <tr>\n",
              "      <th>28</th>\n",
              "      <td>3</td>\n",
              "      <td>34</td>\n",
              "      <td>53</td>\n",
              "      <td>54</td>\n",
              "    </tr>\n",
              "    <tr>\n",
              "      <th>87</th>\n",
              "      <td>3</td>\n",
              "      <td>41</td>\n",
              "      <td>63</td>\n",
              "      <td>46</td>\n",
              "    </tr>\n",
              "    <tr>\n",
              "      <th>15</th>\n",
              "      <td>6</td>\n",
              "      <td>5</td>\n",
              "      <td>5</td>\n",
              "      <td>96</td>\n",
              "    </tr>\n",
              "    <tr>\n",
              "      <th>80</th>\n",
              "      <td>7</td>\n",
              "      <td>15</td>\n",
              "      <td>31</td>\n",
              "      <td>26</td>\n",
              "    </tr>\n",
              "    <tr>\n",
              "      <th>...</th>\n",
              "      <td>...</td>\n",
              "      <td>...</td>\n",
              "      <td>...</td>\n",
              "      <td>...</td>\n",
              "    </tr>\n",
              "    <tr>\n",
              "      <th>3</th>\n",
              "      <td>98</td>\n",
              "      <td>60</td>\n",
              "      <td>35</td>\n",
              "      <td>25</td>\n",
              "    </tr>\n",
              "    <tr>\n",
              "      <th>59</th>\n",
              "      <td>98</td>\n",
              "      <td>37</td>\n",
              "      <td>6</td>\n",
              "      <td>27</td>\n",
              "    </tr>\n",
              "    <tr>\n",
              "      <th>50</th>\n",
              "      <td>98</td>\n",
              "      <td>89</td>\n",
              "      <td>45</td>\n",
              "      <td>18</td>\n",
              "    </tr>\n",
              "    <tr>\n",
              "      <th>19</th>\n",
              "      <td>98</td>\n",
              "      <td>97</td>\n",
              "      <td>48</td>\n",
              "      <td>81</td>\n",
              "    </tr>\n",
              "    <tr>\n",
              "      <th>97</th>\n",
              "      <td>98</td>\n",
              "      <td>94</td>\n",
              "      <td>46</td>\n",
              "      <td>74</td>\n",
              "    </tr>\n",
              "  </tbody>\n",
              "</table>\n",
              "<p>100 rows × 4 columns</p>\n",
              "</div>"
            ],
            "text/plain": [
              "     A   B   C   D\n",
              "17   3  96  48  18\n",
              "28   3  34  53  54\n",
              "87   3  41  63  46\n",
              "15   6   5   5  96\n",
              "80   7  15  31  26\n",
              "..  ..  ..  ..  ..\n",
              "3   98  60  35  25\n",
              "59  98  37   6  27\n",
              "50  98  89  45  18\n",
              "19  98  97  48  81\n",
              "97  98  94  46  74\n",
              "\n",
              "[100 rows x 4 columns]"
            ]
          },
          "metadata": {
            "tags": []
          },
          "execution_count": 4
        }
      ]
    },
    {
      "cell_type": "markdown",
      "metadata": {
        "id": "lr6gNkA7DXqK",
        "colab_type": "text"
      },
      "source": [
        "Two columns..."
      ]
    },
    {
      "cell_type": "code",
      "metadata": {
        "id": "IEQTo1xKDWt0",
        "colab_type": "code",
        "colab": {
          "base_uri": "https://localhost:8080/",
          "height": 402
        },
        "outputId": "78b6c916-b8d6-4660-f59b-56e0da82fdec"
      },
      "source": [
        "df.sort_values([\"A\",\"B\"])"
      ],
      "execution_count": 5,
      "outputs": [
        {
          "output_type": "execute_result",
          "data": {
            "text/html": [
              "<div>\n",
              "<style scoped>\n",
              "    .dataframe tbody tr th:only-of-type {\n",
              "        vertical-align: middle;\n",
              "    }\n",
              "\n",
              "    .dataframe tbody tr th {\n",
              "        vertical-align: top;\n",
              "    }\n",
              "\n",
              "    .dataframe thead th {\n",
              "        text-align: right;\n",
              "    }\n",
              "</style>\n",
              "<table border=\"1\" class=\"dataframe\">\n",
              "  <thead>\n",
              "    <tr style=\"text-align: right;\">\n",
              "      <th></th>\n",
              "      <th>A</th>\n",
              "      <th>B</th>\n",
              "      <th>C</th>\n",
              "      <th>D</th>\n",
              "    </tr>\n",
              "  </thead>\n",
              "  <tbody>\n",
              "    <tr>\n",
              "      <th>28</th>\n",
              "      <td>3</td>\n",
              "      <td>34</td>\n",
              "      <td>53</td>\n",
              "      <td>54</td>\n",
              "    </tr>\n",
              "    <tr>\n",
              "      <th>87</th>\n",
              "      <td>3</td>\n",
              "      <td>41</td>\n",
              "      <td>63</td>\n",
              "      <td>46</td>\n",
              "    </tr>\n",
              "    <tr>\n",
              "      <th>17</th>\n",
              "      <td>3</td>\n",
              "      <td>96</td>\n",
              "      <td>48</td>\n",
              "      <td>18</td>\n",
              "    </tr>\n",
              "    <tr>\n",
              "      <th>15</th>\n",
              "      <td>6</td>\n",
              "      <td>5</td>\n",
              "      <td>5</td>\n",
              "      <td>96</td>\n",
              "    </tr>\n",
              "    <tr>\n",
              "      <th>80</th>\n",
              "      <td>7</td>\n",
              "      <td>15</td>\n",
              "      <td>31</td>\n",
              "      <td>26</td>\n",
              "    </tr>\n",
              "    <tr>\n",
              "      <th>...</th>\n",
              "      <td>...</td>\n",
              "      <td>...</td>\n",
              "      <td>...</td>\n",
              "      <td>...</td>\n",
              "    </tr>\n",
              "    <tr>\n",
              "      <th>59</th>\n",
              "      <td>98</td>\n",
              "      <td>37</td>\n",
              "      <td>6</td>\n",
              "      <td>27</td>\n",
              "    </tr>\n",
              "    <tr>\n",
              "      <th>3</th>\n",
              "      <td>98</td>\n",
              "      <td>60</td>\n",
              "      <td>35</td>\n",
              "      <td>25</td>\n",
              "    </tr>\n",
              "    <tr>\n",
              "      <th>50</th>\n",
              "      <td>98</td>\n",
              "      <td>89</td>\n",
              "      <td>45</td>\n",
              "      <td>18</td>\n",
              "    </tr>\n",
              "    <tr>\n",
              "      <th>97</th>\n",
              "      <td>98</td>\n",
              "      <td>94</td>\n",
              "      <td>46</td>\n",
              "      <td>74</td>\n",
              "    </tr>\n",
              "    <tr>\n",
              "      <th>19</th>\n",
              "      <td>98</td>\n",
              "      <td>97</td>\n",
              "      <td>48</td>\n",
              "      <td>81</td>\n",
              "    </tr>\n",
              "  </tbody>\n",
              "</table>\n",
              "<p>100 rows × 4 columns</p>\n",
              "</div>"
            ],
            "text/plain": [
              "     A   B   C   D\n",
              "28   3  34  53  54\n",
              "87   3  41  63  46\n",
              "17   3  96  48  18\n",
              "15   6   5   5  96\n",
              "80   7  15  31  26\n",
              "..  ..  ..  ..  ..\n",
              "59  98  37   6  27\n",
              "3   98  60  35  25\n",
              "50  98  89  45  18\n",
              "97  98  94  46  74\n",
              "19  98  97  48  81\n",
              "\n",
              "[100 rows x 4 columns]"
            ]
          },
          "metadata": {
            "tags": []
          },
          "execution_count": 5
        }
      ]
    },
    {
      "cell_type": "code",
      "metadata": {
        "id": "ZXKZyr2CDaWt",
        "colab_type": "code",
        "colab": {
          "base_uri": "https://localhost:8080/",
          "height": 402
        },
        "outputId": "7a68e46e-0b1e-4e00-b5b6-298c65150589"
      },
      "source": [
        "import random\n",
        "df[\"Cities\"] = [random.choice([\"paris\", \"barcelona\", \"kolkata\", \"new york\"]) for x in range(df.shape[0])]\n",
        "df"
      ],
      "execution_count": 20,
      "outputs": [
        {
          "output_type": "execute_result",
          "data": {
            "text/html": [
              "<div>\n",
              "<style scoped>\n",
              "    .dataframe tbody tr th:only-of-type {\n",
              "        vertical-align: middle;\n",
              "    }\n",
              "\n",
              "    .dataframe tbody tr th {\n",
              "        vertical-align: top;\n",
              "    }\n",
              "\n",
              "    .dataframe thead th {\n",
              "        text-align: right;\n",
              "    }\n",
              "</style>\n",
              "<table border=\"1\" class=\"dataframe\">\n",
              "  <thead>\n",
              "    <tr style=\"text-align: right;\">\n",
              "      <th></th>\n",
              "      <th>A</th>\n",
              "      <th>B</th>\n",
              "      <th>C</th>\n",
              "      <th>D</th>\n",
              "      <th>Cities</th>\n",
              "    </tr>\n",
              "  </thead>\n",
              "  <tbody>\n",
              "    <tr>\n",
              "      <th>0</th>\n",
              "      <td>35</td>\n",
              "      <td>77</td>\n",
              "      <td>55</td>\n",
              "      <td>14</td>\n",
              "      <td>new york</td>\n",
              "    </tr>\n",
              "    <tr>\n",
              "      <th>1</th>\n",
              "      <td>14</td>\n",
              "      <td>10</td>\n",
              "      <td>90</td>\n",
              "      <td>69</td>\n",
              "      <td>barcelona</td>\n",
              "    </tr>\n",
              "    <tr>\n",
              "      <th>2</th>\n",
              "      <td>61</td>\n",
              "      <td>36</td>\n",
              "      <td>6</td>\n",
              "      <td>19</td>\n",
              "      <td>new york</td>\n",
              "    </tr>\n",
              "    <tr>\n",
              "      <th>3</th>\n",
              "      <td>98</td>\n",
              "      <td>60</td>\n",
              "      <td>35</td>\n",
              "      <td>25</td>\n",
              "      <td>kolkata</td>\n",
              "    </tr>\n",
              "    <tr>\n",
              "      <th>4</th>\n",
              "      <td>75</td>\n",
              "      <td>50</td>\n",
              "      <td>97</td>\n",
              "      <td>39</td>\n",
              "      <td>paris</td>\n",
              "    </tr>\n",
              "    <tr>\n",
              "      <th>...</th>\n",
              "      <td>...</td>\n",
              "      <td>...</td>\n",
              "      <td>...</td>\n",
              "      <td>...</td>\n",
              "      <td>...</td>\n",
              "    </tr>\n",
              "    <tr>\n",
              "      <th>95</th>\n",
              "      <td>35</td>\n",
              "      <td>47</td>\n",
              "      <td>87</td>\n",
              "      <td>0</td>\n",
              "      <td>kolkata</td>\n",
              "    </tr>\n",
              "    <tr>\n",
              "      <th>96</th>\n",
              "      <td>72</td>\n",
              "      <td>49</td>\n",
              "      <td>35</td>\n",
              "      <td>41</td>\n",
              "      <td>new york</td>\n",
              "    </tr>\n",
              "    <tr>\n",
              "      <th>97</th>\n",
              "      <td>98</td>\n",
              "      <td>94</td>\n",
              "      <td>46</td>\n",
              "      <td>74</td>\n",
              "      <td>new york</td>\n",
              "    </tr>\n",
              "    <tr>\n",
              "      <th>98</th>\n",
              "      <td>18</td>\n",
              "      <td>8</td>\n",
              "      <td>26</td>\n",
              "      <td>41</td>\n",
              "      <td>new york</td>\n",
              "    </tr>\n",
              "    <tr>\n",
              "      <th>99</th>\n",
              "      <td>31</td>\n",
              "      <td>82</td>\n",
              "      <td>32</td>\n",
              "      <td>80</td>\n",
              "      <td>kolkata</td>\n",
              "    </tr>\n",
              "  </tbody>\n",
              "</table>\n",
              "<p>100 rows × 5 columns</p>\n",
              "</div>"
            ],
            "text/plain": [
              "     A   B   C   D     Cities\n",
              "0   35  77  55  14   new york\n",
              "1   14  10  90  69  barcelona\n",
              "2   61  36   6  19   new york\n",
              "3   98  60  35  25    kolkata\n",
              "4   75  50  97  39      paris\n",
              "..  ..  ..  ..  ..        ...\n",
              "95  35  47  87   0    kolkata\n",
              "96  72  49  35  41   new york\n",
              "97  98  94  46  74   new york\n",
              "98  18   8  26  41   new york\n",
              "99  31  82  32  80    kolkata\n",
              "\n",
              "[100 rows x 5 columns]"
            ]
          },
          "metadata": {
            "tags": []
          },
          "execution_count": 20
        }
      ]
    },
    {
      "cell_type": "markdown",
      "metadata": {
        "id": "1j2_cT1IF-i-",
        "colab_type": "text"
      },
      "source": [
        "Aggregation by group or something"
      ]
    },
    {
      "cell_type": "code",
      "metadata": {
        "id": "zq0miV4LDzSY",
        "colab_type": "code",
        "colab": {
          "base_uri": "https://localhost:8080/",
          "height": 195
        },
        "outputId": "8b8509e3-a159-418c-9064-79aa2bb9a822"
      },
      "source": [
        "df.groupby([\"Cities\"]).median()"
      ],
      "execution_count": 22,
      "outputs": [
        {
          "output_type": "execute_result",
          "data": {
            "text/html": [
              "<div>\n",
              "<style scoped>\n",
              "    .dataframe tbody tr th:only-of-type {\n",
              "        vertical-align: middle;\n",
              "    }\n",
              "\n",
              "    .dataframe tbody tr th {\n",
              "        vertical-align: top;\n",
              "    }\n",
              "\n",
              "    .dataframe thead th {\n",
              "        text-align: right;\n",
              "    }\n",
              "</style>\n",
              "<table border=\"1\" class=\"dataframe\">\n",
              "  <thead>\n",
              "    <tr style=\"text-align: right;\">\n",
              "      <th></th>\n",
              "      <th>A</th>\n",
              "      <th>B</th>\n",
              "      <th>C</th>\n",
              "      <th>D</th>\n",
              "    </tr>\n",
              "    <tr>\n",
              "      <th>Cities</th>\n",
              "      <th></th>\n",
              "      <th></th>\n",
              "      <th></th>\n",
              "      <th></th>\n",
              "    </tr>\n",
              "  </thead>\n",
              "  <tbody>\n",
              "    <tr>\n",
              "      <th>barcelona</th>\n",
              "      <td>53.5</td>\n",
              "      <td>50.0</td>\n",
              "      <td>49.0</td>\n",
              "      <td>36.0</td>\n",
              "    </tr>\n",
              "    <tr>\n",
              "      <th>kolkata</th>\n",
              "      <td>43.0</td>\n",
              "      <td>69.0</td>\n",
              "      <td>40.0</td>\n",
              "      <td>42.0</td>\n",
              "    </tr>\n",
              "    <tr>\n",
              "      <th>new york</th>\n",
              "      <td>35.0</td>\n",
              "      <td>45.0</td>\n",
              "      <td>26.0</td>\n",
              "      <td>41.0</td>\n",
              "    </tr>\n",
              "    <tr>\n",
              "      <th>paris</th>\n",
              "      <td>74.5</td>\n",
              "      <td>41.0</td>\n",
              "      <td>28.5</td>\n",
              "      <td>38.5</td>\n",
              "    </tr>\n",
              "  </tbody>\n",
              "</table>\n",
              "</div>"
            ],
            "text/plain": [
              "              A     B     C     D\n",
              "Cities                           \n",
              "barcelona  53.5  50.0  49.0  36.0\n",
              "kolkata    43.0  69.0  40.0  42.0\n",
              "new york   35.0  45.0  26.0  41.0\n",
              "paris      74.5  41.0  28.5  38.5"
            ]
          },
          "metadata": {
            "tags": []
          },
          "execution_count": 22
        }
      ]
    },
    {
      "cell_type": "markdown",
      "metadata": {
        "id": "aZkEyJIKGK0d",
        "colab_type": "text"
      },
      "source": [
        "some plots I guess?"
      ]
    },
    {
      "cell_type": "code",
      "metadata": {
        "id": "Z0mRBOKMEN1J",
        "colab_type": "code",
        "colab": {}
      },
      "source": [
        "import matplotlib.pyplot as plt\n",
        "import seaborn as sns # <--- This one for example comes by default in colab, so is not in the requirements.txt"
      ],
      "execution_count": 0,
      "outputs": []
    },
    {
      "cell_type": "code",
      "metadata": {
        "id": "sJ6htkbfGQdo",
        "colab_type": "code",
        "colab": {
          "base_uri": "https://localhost:8080/",
          "height": 297
        },
        "outputId": "e9548a4a-a442-4d65-c73d-2ef11a64cc33"
      },
      "source": [
        "sns.scatterplot(df[\"A\"], df[\"B\"])"
      ],
      "execution_count": 31,
      "outputs": [
        {
          "output_type": "execute_result",
          "data": {
            "text/plain": [
              "<matplotlib.axes._subplots.AxesSubplot at 0x7f371fb86710>"
            ]
          },
          "metadata": {
            "tags": []
          },
          "execution_count": 31
        },
        {
          "output_type": "display_data",
          "data": {
            "image/png": "[encoded data removed]",
            "text/plain": [
              "<Figure size 432x288 with 1 Axes>"
            ]
          },
          "metadata": {
            "tags": [],
            "needs_background": "light"
          }
        }
      ]
    },
    {
      "cell_type": "markdown",
      "metadata": {
        "id": "Zd4WAgMuGo06",
        "colab_type": "text"
      },
      "source": [
        "Yep yep, very interesting, verily\n",
        "\n",
        "We can load the previous naked image as a numpy array and do some stuff"
      ]
    },
    {
      "cell_type": "code",
      "metadata": {
        "id": "DMGX9nb1Gggo",
        "colab_type": "code",
        "colab": {
          "base_uri": "https://localhost:8080/",
          "height": 840
        },
        "outputId": "afbf0455-8774-4961-d464-bf6a59cfed30"
      },
      "source": [
        "np.asarray(im)"
      ],
      "execution_count": 36,
      "outputs": [
        {
          "output_type": "execute_result",
          "data": {
            "text/plain": [
              "array([[[195, 195, 195],\n",
              "        [195, 195, 195],\n",
              "        [195, 195, 195],\n",
              "        ...,\n",
              "        [197, 197, 197],\n",
              "        [198, 198, 198],\n",
              "        [200, 200, 200]],\n",
              "\n",
              "       [[195, 195, 195],\n",
              "        [195, 195, 195],\n",
              "        [195, 195, 195],\n",
              "        ...,\n",
              "        [197, 197, 197],\n",
              "        [198, 198, 198],\n",
              "        [200, 200, 200]],\n",
              "\n",
              "       [[195, 195, 195],\n",
              "        [195, 195, 195],\n",
              "        [195, 195, 195],\n",
              "        ...,\n",
              "        [197, 197, 197],\n",
              "        [198, 198, 198],\n",
              "        [200, 200, 200]],\n",
              "\n",
              "       ...,\n",
              "\n",
              "       [[207, 207, 207],\n",
              "        [207, 207, 207],\n",
              "        [207, 207, 207],\n",
              "        ...,\n",
              "        [217, 217, 217],\n",
              "        [217, 217, 217],\n",
              "        [218, 218, 218]],\n",
              "\n",
              "       [[207, 207, 207],\n",
              "        [207, 207, 207],\n",
              "        [207, 207, 207],\n",
              "        ...,\n",
              "        [217, 217, 217],\n",
              "        [217, 217, 217],\n",
              "        [218, 218, 218]],\n",
              "\n",
              "       [[207, 207, 207],\n",
              "        [207, 207, 207],\n",
              "        [207, 207, 207],\n",
              "        ...,\n",
              "        [217, 217, 217],\n",
              "        [217, 217, 217],\n",
              "        [218, 218, 218]]], dtype=uint8)"
            ]
          },
          "metadata": {
            "tags": []
          },
          "execution_count": 36
        }
      ]
    },
    {
      "cell_type": "markdown",
      "metadata": {
        "id": "Wrx_qooBHTKA",
        "colab_type": "text"
      },
      "source": [
        "I just wanted to print some stuff, not gonna do anything with that"
      ]
    },
    {
      "cell_type": "markdown",
      "metadata": {
        "id": "oNkVz-V9HtFr",
        "colab_type": "text"
      },
      "source": [
        "## Finally some colab interact because I can\n",
        "\n",
        "Plot the distribution of a column, filtered (or not) by city"
      ]
    },
    {
      "cell_type": "code",
      "metadata": {
        "id": "tYA0NIH6HCr0",
        "colab_type": "code",
        "colab": {
          "base_uri": "https://localhost:8080/",
          "height": 296
        },
        "cellView": "both",
        "outputId": "584361b5-9327-4a59-f825-e877e5154b8f"
      },
      "source": [
        "#@title CHOOSE STUFF HERE\n",
        "\n",
        "dropdown_col = 'B' #@param [\"A\",\"B\",\"C\",\"D\"]\n",
        "dropdown_city = 'barcelona' #@param [\"paris\", \"barcelona\", \"kolkata\", \"new york\"]\n",
        "sns.distplot(df.loc[df[\"Cities\"]==dropdown_city,dropdown_col])"
      ],
      "execution_count": 43,
      "outputs": [
        {
          "output_type": "execute_result",
          "data": {
            "text/plain": [
              "<matplotlib.axes._subplots.AxesSubplot at 0x7f371a4cc7b8>"
            ]
          },
          "metadata": {
            "tags": []
          },
          "execution_count": 43
        },
        {
          "output_type": "display_data",
          "data": {
            "image/png": "[encoded data removed]",
            "text/plain": [
              "<Figure size 432x288 with 1 Axes>"
            ]
          },
          "metadata": {
            "tags": [],
            "needs_background": "light"
          }
        }
      ]
    },
    {
      "cell_type": "markdown",
      "metadata": {
        "id": "a1RbJi_cIeOR",
        "colab_type": "text"
      },
      "source": [
        "# AND WE ARE DONE"
      ]
    }
  ]
}